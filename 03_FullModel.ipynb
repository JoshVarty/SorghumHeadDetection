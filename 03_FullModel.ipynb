{
 "cells": [
  {
   "cell_type": "markdown",
   "metadata": {},
   "source": [
    "## Full Model"
   ]
  },
  {
   "cell_type": "markdown",
   "metadata": {},
   "source": [
    "Now that we can generate predictions, let's train a few models on a few folds of the dataset."
   ]
  },
  {
   "cell_type": "code",
   "execution_count": 1,
   "metadata": {},
   "outputs": [],
   "source": [
    "import os\n",
    "import sys\n",
    "import PIL\n",
    "import shutil\n",
    "import pandas as pd\n",
    "import numpy as np\n",
    "from functools import partial\n",
    "from sklearn.model_selection import KFold\n",
    "\n",
    "import torch\n",
    "\n",
    "import fastai\n",
    "from fastai.core import is_tuple\n",
    "from fastai.train import ShowGraph\n",
    "from fastai.vision import Path, open_image, ImageBBox, ObjectItemList, get_transforms, bb_pad_collate, conv_layer\n",
    "from fastai.vision import Learner, create_body, models, conv2d, ifnone, DatasetType, range_of, progress_bar, cnn_learner, Image\n",
    "from fastai.vision.data import pil2tensor\n",
    "\n",
    "from RetinaNet.object_detection_helper import process_output, nms, rescale_boxes, GeneralEnsemble\n",
    "from RetinaNet.object_detection_helper import create_anchors, get_annotations_from_path\n",
    "from RetinaNet.inference import get_bounding_box_predictions_for_dataset\n",
    "from RetinaNet.RetinaNetFocalLoss import FocalLoss\n",
    "from RetinaNet.RetinaNet import RetinaNet\n",
    "from RetinaNet.callbacks import BBLossMetrics, BBMetrics, PascalVOCMetric\n",
    "\n",
    "# Make required folders if they're not already present\n",
    "directories = ['./kfolds', './model_predictions', './model_source']\n",
    "for directory in directories:\n",
    "    if not os.path.exists(directory):\n",
    "        os.makedirs(directory)"
   ]
  },
  {
   "cell_type": "code",
   "execution_count": 2,
   "metadata": {},
   "outputs": [
    {
     "name": "stdout",
     "output_type": "stream",
     "text": [
      "Model: 03_FullModel__folds10\n"
     ]
    }
   ],
   "source": [
    "NFOLDS = 10\n",
    "\n",
    "batch_size = 64\n",
    "image_size = 256\n",
    "\n",
    "DATA = Path('data/')\n",
    "IMAGES = DATA/'train_labelled_images'\n",
    "ANNOTATIONS = DATA/'train_labelled_annotations'\n",
    "TEST = DATA/'sorghum_test_public'\n",
    "\n",
    "images, lbl_bbox = get_annotations_from_path(ANNOTATIONS, IMAGES)\n",
    "img2bbox = dict(zip(images, lbl_bbox))\n",
    "get_y_func = lambda o:img2bbox[IMAGES/o.name]\n",
    "\n",
    "script_name = os.path.basename('03_FullModel').split('.')[0]\n",
    "MODEL_NAME = \"{0}__folds{1}\".format(script_name, NFOLDS)\n",
    "\n",
    "print(\"Model: {}\".format(MODEL_NAME))\n",
    "\n",
    "kf = KFold(n_splits=NFOLDS)\n",
    "\n",
    "#Out of fold predictions, one row for each training image \n",
    "# with a variable length list for predicted bounding boxes\n",
    "oof_preds = np.empty((len(images),), dtype=object)\n",
    "for i,v in enumerate(oof_preds): \n",
    "    oof_preds[i] = []\n",
    "    \n",
    "tfms = get_transforms(do_flip=True, max_rotate=0, max_lighting=0.1, max_zoom=0, max_warp=0.)\n",
    "\n",
    "def get_data(bs, size, val_index):\n",
    "    src = ObjectItemList.from_folder(IMAGES)\n",
    "    src = src.split_by_idx(val_index)\n",
    "    src = src.label_from_func(get_y_func)\n",
    "    src = src.transform(get_transforms(), size=size, tfm_y=True)\n",
    "    return src.databunch(path=IMAGES, bs=16, collate_fn=bb_pad_collate)\n"
   ]
  },
  {
   "cell_type": "code",
   "execution_count": 3,
   "metadata": {
    "scrolled": false
   },
   "outputs": [
    {
     "data": {
      "text/html": [
       "<table border=\"1\" class=\"dataframe\">\n",
       "  <thead>\n",
       "    <tr style=\"text-align: left;\">\n",
       "      <th>epoch</th>\n",
       "      <th>train_loss</th>\n",
       "      <th>valid_loss</th>\n",
       "      <th>pascal_voc_metric</th>\n",
       "      <th>BBloss</th>\n",
       "      <th>focal_loss</th>\n",
       "      <th>AP-0</th>\n",
       "      <th>time</th>\n",
       "    </tr>\n",
       "  </thead>\n",
       "  <tbody>\n",
       "    <tr>\n",
       "      <td>0</td>\n",
       "      <td>2.920563</td>\n",
       "      <td>2.266038</td>\n",
       "      <td>0.016196</td>\n",
       "      <td>0.560610</td>\n",
       "      <td>1.705429</td>\n",
       "      <td>0.016196</td>\n",
       "      <td>00:11</td>\n",
       "    </tr>\n",
       "  </tbody>\n",
       "</table>"
      ],
      "text/plain": [
       "<IPython.core.display.HTML object>"
      ]
     },
     "metadata": {},
     "output_type": "display_data"
    },
    {
     "data": {
      "image/png": "[encoded data removed]",
      "text/plain": [
       "<Figure size 432x288 with 1 Axes>"
      ]
     },
     "metadata": {},
     "output_type": "display_data"
    },
    {
     "name": "stdout",
     "output_type": "stream",
     "text": [
      "30\n"
     ]
    },
    {
     "data": {
      "text/html": [
       "<table border=\"1\" class=\"dataframe\">\n",
       "  <thead>\n",
       "    <tr style=\"text-align: left;\">\n",
       "      <th>epoch</th>\n",
       "      <th>train_loss</th>\n",
       "      <th>valid_loss</th>\n",
       "      <th>pascal_voc_metric</th>\n",
       "      <th>BBloss</th>\n",
       "      <th>focal_loss</th>\n",
       "      <th>AP-0</th>\n",
       "      <th>time</th>\n",
       "    </tr>\n",
       "  </thead>\n",
       "  <tbody>\n",
       "    <tr>\n",
       "      <td>0</td>\n",
       "      <td>2.644244</td>\n",
       "      <td>2.485212</td>\n",
       "      <td>0</td>\n",
       "      <td>0.574243</td>\n",
       "      <td>1.910969</td>\n",
       "      <td>0</td>\n",
       "      <td>00:08</td>\n",
       "    </tr>\n",
       "  </tbody>\n",
       "</table>"
      ],
      "text/plain": [
       "<IPython.core.display.HTML object>"
      ]
     },
     "metadata": {},
     "output_type": "display_data"
    },
    {
     "data": {
      "image/png": "[encoded data removed]",
      "text/plain": [
       "<Figure size 432x288 with 1 Axes>"
      ]
     },
     "metadata": {},
     "output_type": "display_data"
    },
    {
     "name": "stdout",
     "output_type": "stream",
     "text": [
      "30\n"
     ]
    },
    {
     "data": {
      "text/html": [
       "<table border=\"1\" class=\"dataframe\">\n",
       "  <thead>\n",
       "    <tr style=\"text-align: left;\">\n",
       "      <th>epoch</th>\n",
       "      <th>train_loss</th>\n",
       "      <th>valid_loss</th>\n",
       "      <th>pascal_voc_metric</th>\n",
       "      <th>BBloss</th>\n",
       "      <th>focal_loss</th>\n",
       "      <th>AP-0</th>\n",
       "      <th>time</th>\n",
       "    </tr>\n",
       "  </thead>\n",
       "  <tbody>\n",
       "    <tr>\n",
       "      <td>0</td>\n",
       "      <td>3.639908</td>\n",
       "      <td>2.991371</td>\n",
       "      <td>0</td>\n",
       "      <td>0.577119</td>\n",
       "      <td>2.414252</td>\n",
       "      <td>0</td>\n",
       "      <td>00:07</td>\n",
       "    </tr>\n",
       "  </tbody>\n",
       "</table>"
      ],
      "text/plain": [
       "<IPython.core.display.HTML object>"
      ]
     },
     "metadata": {},
     "output_type": "display_data"
    },
    {
     "data": {
      "image/png": "[encoded data removed]",
      "text/plain": [
       "<Figure size 432x288 with 1 Axes>"
      ]
     },
     "metadata": {},
     "output_type": "display_data"
    },
    {
     "name": "stdout",
     "output_type": "stream",
     "text": [
      "30\n"
     ]
    },
    {
     "data": {
      "text/html": [
       "<table border=\"1\" class=\"dataframe\">\n",
       "  <thead>\n",
       "    <tr style=\"text-align: left;\">\n",
       "      <th>epoch</th>\n",
       "      <th>train_loss</th>\n",
       "      <th>valid_loss</th>\n",
       "      <th>pascal_voc_metric</th>\n",
       "      <th>BBloss</th>\n",
       "      <th>focal_loss</th>\n",
       "      <th>AP-0</th>\n",
       "      <th>time</th>\n",
       "    </tr>\n",
       "  </thead>\n",
       "  <tbody>\n",
       "    <tr>\n",
       "      <td>0</td>\n",
       "      <td>2.997816</td>\n",
       "      <td>2.916027</td>\n",
       "      <td>0</td>\n",
       "      <td>0.552019</td>\n",
       "      <td>2.364009</td>\n",
       "      <td>0</td>\n",
       "      <td>00:07</td>\n",
       "    </tr>\n",
       "  </tbody>\n",
       "</table>"
      ],
      "text/plain": [
       "<IPython.core.display.HTML object>"
      ]
     },
     "metadata": {},
     "output_type": "display_data"
    },
    {
     "data": {
      "image/png": "[encoded data removed]",
      "text/plain": [
       "<Figure size 432x288 with 1 Axes>"
      ]
     },
     "metadata": {},
     "output_type": "display_data"
    },
    {
     "name": "stdout",
     "output_type": "stream",
     "text": [
      "30\n"
     ]
    },
    {
     "data": {
      "text/html": [
       "<table border=\"1\" class=\"dataframe\">\n",
       "  <thead>\n",
       "    <tr style=\"text-align: left;\">\n",
       "      <th>epoch</th>\n",
       "      <th>train_loss</th>\n",
       "      <th>valid_loss</th>\n",
       "      <th>pascal_voc_metric</th>\n",
       "      <th>BBloss</th>\n",
       "      <th>focal_loss</th>\n",
       "      <th>AP-0</th>\n",
       "      <th>time</th>\n",
       "    </tr>\n",
       "  </thead>\n",
       "  <tbody>\n",
       "    <tr>\n",
       "      <td>0</td>\n",
       "      <td>2.351853</td>\n",
       "      <td>2.240550</td>\n",
       "      <td>0.002579</td>\n",
       "      <td>0.534257</td>\n",
       "      <td>1.706293</td>\n",
       "      <td>0.002579</td>\n",
       "      <td>00:07</td>\n",
       "    </tr>\n",
       "  </tbody>\n",
       "</table>"
      ],
      "text/plain": [
       "<IPython.core.display.HTML object>"
      ]
     },
     "metadata": {},
     "output_type": "display_data"
    },
    {
     "data": {
      "image/png": "[encoded data removed]",
      "text/plain": [
       "<Figure size 432x288 with 1 Axes>"
      ]
     },
     "metadata": {},
     "output_type": "display_data"
    },
    {
     "name": "stdout",
     "output_type": "stream",
     "text": [
      "30\n"
     ]
    },
    {
     "data": {
      "text/html": [
       "<table border=\"1\" class=\"dataframe\">\n",
       "  <thead>\n",
       "    <tr style=\"text-align: left;\">\n",
       "      <th>epoch</th>\n",
       "      <th>train_loss</th>\n",
       "      <th>valid_loss</th>\n",
       "      <th>pascal_voc_metric</th>\n",
       "      <th>BBloss</th>\n",
       "      <th>focal_loss</th>\n",
       "      <th>AP-0</th>\n",
       "      <th>time</th>\n",
       "    </tr>\n",
       "  </thead>\n",
       "  <tbody>\n",
       "    <tr>\n",
       "      <td>0</td>\n",
       "      <td>2.417028</td>\n",
       "      <td>2.443355</td>\n",
       "      <td>0</td>\n",
       "      <td>0.564422</td>\n",
       "      <td>1.878932</td>\n",
       "      <td>0</td>\n",
       "      <td>00:07</td>\n",
       "    </tr>\n",
       "  </tbody>\n",
       "</table>"
      ],
      "text/plain": [
       "<IPython.core.display.HTML object>"
      ]
     },
     "metadata": {},
     "output_type": "display_data"
    },
    {
     "data": {
      "image/png": "[encoded data removed]",
      "text/plain": [
       "<Figure size 432x288 with 1 Axes>"
      ]
     },
     "metadata": {},
     "output_type": "display_data"
    },
    {
     "name": "stdout",
     "output_type": "stream",
     "text": [
      "30\n"
     ]
    },
    {
     "data": {
      "text/html": [
       "<table border=\"1\" class=\"dataframe\">\n",
       "  <thead>\n",
       "    <tr style=\"text-align: left;\">\n",
       "      <th>epoch</th>\n",
       "      <th>train_loss</th>\n",
       "      <th>valid_loss</th>\n",
       "      <th>pascal_voc_metric</th>\n",
       "      <th>BBloss</th>\n",
       "      <th>focal_loss</th>\n",
       "      <th>AP-0</th>\n",
       "      <th>time</th>\n",
       "    </tr>\n",
       "  </thead>\n",
       "  <tbody>\n",
       "    <tr>\n",
       "      <td>0</td>\n",
       "      <td>3.238881</td>\n",
       "      <td>2.629035</td>\n",
       "      <td>0</td>\n",
       "      <td>0.567243</td>\n",
       "      <td>2.061792</td>\n",
       "      <td>0</td>\n",
       "      <td>00:07</td>\n",
       "    </tr>\n",
       "  </tbody>\n",
       "</table>"
      ],
      "text/plain": [
       "<IPython.core.display.HTML object>"
      ]
     },
     "metadata": {},
     "output_type": "display_data"
    },
    {
     "data": {
      "image/png": "[encoded data removed]",
      "text/plain": [
       "<Figure size 432x288 with 1 Axes>"
      ]
     },
     "metadata": {},
     "output_type": "display_data"
    },
    {
     "name": "stdout",
     "output_type": "stream",
     "text": [
      "30\n"
     ]
    },
    {
     "data": {
      "text/html": [
       "<table border=\"1\" class=\"dataframe\">\n",
       "  <thead>\n",
       "    <tr style=\"text-align: left;\">\n",
       "      <th>epoch</th>\n",
       "      <th>train_loss</th>\n",
       "      <th>valid_loss</th>\n",
       "      <th>pascal_voc_metric</th>\n",
       "      <th>BBloss</th>\n",
       "      <th>focal_loss</th>\n",
       "      <th>AP-0</th>\n",
       "      <th>time</th>\n",
       "    </tr>\n",
       "  </thead>\n",
       "  <tbody>\n",
       "    <tr>\n",
       "      <td>0</td>\n",
       "      <td>4.752921</td>\n",
       "      <td>2.743227</td>\n",
       "      <td>0</td>\n",
       "      <td>0.588212</td>\n",
       "      <td>2.155015</td>\n",
       "      <td>0</td>\n",
       "      <td>00:07</td>\n",
       "    </tr>\n",
       "  </tbody>\n",
       "</table>"
      ],
      "text/plain": [
       "<IPython.core.display.HTML object>"
      ]
     },
     "metadata": {},
     "output_type": "display_data"
    },
    {
     "data": {
      "image/png": "[encoded data removed]",
      "text/plain": [
       "<Figure size 432x288 with 1 Axes>"
      ]
     },
     "metadata": {},
     "output_type": "display_data"
    },
    {
     "name": "stdout",
     "output_type": "stream",
     "text": [
      "30\n"
     ]
    },
    {
     "data": {
      "text/html": [
       "<table border=\"1\" class=\"dataframe\">\n",
       "  <thead>\n",
       "    <tr style=\"text-align: left;\">\n",
       "      <th>epoch</th>\n",
       "      <th>train_loss</th>\n",
       "      <th>valid_loss</th>\n",
       "      <th>pascal_voc_metric</th>\n",
       "      <th>BBloss</th>\n",
       "      <th>focal_loss</th>\n",
       "      <th>AP-0</th>\n",
       "      <th>time</th>\n",
       "    </tr>\n",
       "  </thead>\n",
       "  <tbody>\n",
       "    <tr>\n",
       "      <td>0</td>\n",
       "      <td>2.481767</td>\n",
       "      <td>2.220834</td>\n",
       "      <td>0.014245</td>\n",
       "      <td>0.582167</td>\n",
       "      <td>1.638667</td>\n",
       "      <td>0.014245</td>\n",
       "      <td>00:07</td>\n",
       "    </tr>\n",
       "  </tbody>\n",
       "</table>"
      ],
      "text/plain": [
       "<IPython.core.display.HTML object>"
      ]
     },
     "metadata": {},
     "output_type": "display_data"
    },
    {
     "data": {
      "image/png": "[encoded data removed]",
      "text/plain": [
       "<Figure size 432x288 with 1 Axes>"
      ]
     },
     "metadata": {},
     "output_type": "display_data"
    },
    {
     "name": "stdout",
     "output_type": "stream",
     "text": [
      "30\n"
     ]
    },
    {
     "data": {
      "text/html": [
       "<table border=\"1\" class=\"dataframe\">\n",
       "  <thead>\n",
       "    <tr style=\"text-align: left;\">\n",
       "      <th>epoch</th>\n",
       "      <th>train_loss</th>\n",
       "      <th>valid_loss</th>\n",
       "      <th>pascal_voc_metric</th>\n",
       "      <th>BBloss</th>\n",
       "      <th>focal_loss</th>\n",
       "      <th>AP-0</th>\n",
       "      <th>time</th>\n",
       "    </tr>\n",
       "  </thead>\n",
       "  <tbody>\n",
       "    <tr>\n",
       "      <td>0</td>\n",
       "      <td>2.389729</td>\n",
       "      <td>2.592062</td>\n",
       "      <td>0</td>\n",
       "      <td>0.574952</td>\n",
       "      <td>2.017110</td>\n",
       "      <td>0</td>\n",
       "      <td>00:07</td>\n",
       "    </tr>\n",
       "  </tbody>\n",
       "</table>"
      ],
      "text/plain": [
       "<IPython.core.display.HTML object>"
      ]
     },
     "metadata": {},
     "output_type": "display_data"
    },
    {
     "data": {
      "image/png": "[encoded data removed]",
      "text/plain": [
       "<Figure size 432x288 with 1 Axes>"
      ]
     },
     "metadata": {},
     "output_type": "display_data"
    },
    {
     "name": "stdout",
     "output_type": "stream",
     "text": [
      "30\n"
     ]
    },
    {
     "ename": "NameError",
     "evalue": "name 'calculate_overall_lwlrap_sklearn' is not defined",
     "output_type": "error",
     "traceback": [
      "\u001b[0;31m---------------------------------------------------------------------------\u001b[0m",
      "\u001b[0;31mNameError\u001b[0m                                 Traceback (most recent call last)",
      "\u001b[0;32m<ipython-input-3-875ab0381088>\u001b[0m in \u001b[0;36m<module>\u001b[0;34m\u001b[0m\n\u001b[1;32m     33\u001b[0m \u001b[0;34m\u001b[0m\u001b[0m\n\u001b[1;32m     34\u001b[0m \u001b[0;34m\u001b[0m\u001b[0m\n\u001b[0;32m---> 35\u001b[0;31m \u001b[0mscore\u001b[0m \u001b[0;34m=\u001b[0m \u001b[0mcalculate_overall_lwlrap_sklearn\u001b[0m\u001b[0;34m(\u001b[0m\u001b[0moof_preds\u001b[0m\u001b[0;34m,\u001b[0m \u001b[0mtransformed_y\u001b[0m\u001b[0;34m)\u001b[0m\u001b[0;34m.\u001b[0m\u001b[0mnumpy\u001b[0m\u001b[0;34m(\u001b[0m\u001b[0;34m)\u001b[0m\u001b[0;34m[\u001b[0m\u001b[0;36m0\u001b[0m\u001b[0;34m]\u001b[0m\u001b[0;34m\u001b[0m\u001b[0m\n\u001b[0m\u001b[1;32m     36\u001b[0m \u001b[0;34m\u001b[0m\u001b[0m\n\u001b[1;32m     37\u001b[0m \u001b[0mprint\u001b[0m\u001b[0;34m(\u001b[0m\u001b[0;34m\"Saving out-of-fold predictions...\"\u001b[0m\u001b[0;34m)\u001b[0m\u001b[0;34m\u001b[0m\u001b[0m\n",
      "\u001b[0;31mNameError\u001b[0m: name 'calculate_overall_lwlrap_sklearn' is not defined"
     ]
    }
   ],
   "source": [
    "for i, (train_index, val_index) in enumerate(kf.split(images)):\n",
    "\n",
    "    data = get_data(batch_size, image_size, val_index)\n",
    "\n",
    "    anchors = create_anchors(sizes=[(32,32),(16,16),(8,8),(4,4),(2,2)], ratios=[0.5, 1, 2], scales=[0.35, 0.5, 1])\n",
    "    n_classes = data.train_ds.c\n",
    "\n",
    "    crit = FocalLoss(anchors)\n",
    "    encoder = create_body(models.resnet101, True, -2)\n",
    "    model = RetinaNet(encoder, n_classes=data.train_ds.c, n_anchors=9, chs=32, final_bias=-4., n_conv=2)\n",
    "\n",
    "    voc = PascalVOCMetric(anchors, image_size, [i for i in data.train_ds.y.classes[1:]])\n",
    "    learn = Learner(data, model, loss_func=crit, callback_fns=[ShowGraph, BBMetrics], metrics=[voc])\n",
    "    learn.split([model.encoder[6], model.c5top5])\n",
    "    \n",
    "    learn.freeze_to(-2)\n",
    "    learn.fit_one_cycle(1, 1e-3)\n",
    "    \n",
    "    #learn.unfreeze()\n",
    "    #learn.fit_one_cycle(100, slice(1e-5, 1e-4))\n",
    "\n",
    "    all_preds = list(get_bounding_box_predictions_for_dataset(learn, anchors))\n",
    "    \n",
    "    print(len(all_preds))\n",
    "\n",
    "    oof_preds[val_index] = all_preds\n",
    "\n",
    "    #Save learner\n",
    "    #TODO: Export with name\n",
    "    learn.export(file=MODEL_NAME + '_' + str(i))\n",
    "\n",
    "    #Get test predictions\n",
    "    \n",
    "\n",
    "score = calculate_overall_lwlrap_sklearn(oof_preds, transformed_y).numpy()[0]\n",
    "\n",
    "print(\"Saving out-of-fold predictions...\")\n",
    "all_oof_preds = pd.DataFrame(np.hstack((filenames, oof_preds)), columns = test.columns)\n",
    "all_oof_preds.to_csv('./kfolds/{}__{}.csv'.format(MODEL_NAME, str(score)), index=False)\n",
    "\n",
    "print(\"Saving code...\")\n",
    "shutil.copyfile(os.path.basename(__file__), './model_source/{}__{}.py'.format(MODEL_NAME, str(score)))\n",
    "\n",
    "print(\"Saving submission file...\")\n",
    "# Adjust test predictions for number of folds and save\n",
    "test_preds /= NFOLDS\n",
    "test[learn.data.classes] = test_preds\n",
    "test.to_csv('./model_predictions/submission_{}__{}.csv'.format(MODEL_NAME, str(score)), index=False)"
   ]
  }
 ],
 "metadata": {
  "kernelspec": {
   "display_name": "Python (ml)",
   "language": "python",
   "name": "ml"
  },
  "language_info": {
   "codemirror_mode": {
    "name": "ipython",
    "version": 3
   },
   "file_extension": ".py",
   "mimetype": "text/x-python",
   "name": "python",
   "nbconvert_exporter": "python",
   "pygments_lexer": "ipython3",
   "version": "3.6.6"
  }
 },
 "nbformat": 4,
 "nbformat_minor": 2
}
