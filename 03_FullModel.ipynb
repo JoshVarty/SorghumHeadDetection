{
 "cells": [
  {
   "cell_type": "markdown",
   "metadata": {},
   "source": [
    "## Full Model"
   ]
  },
  {
   "cell_type": "markdown",
   "metadata": {},
   "source": [
    "Now that we can generate predictions, let's train a few models on a few folds of the dataset."
   ]
  },
  {
   "cell_type": "code",
   "execution_count": 1,
   "metadata": {},
   "outputs": [],
   "source": [
    "import os\n",
    "import sys\n",
    "import PIL\n",
    "import shutil\n",
    "import pandas as pd\n",
    "import numpy as np\n",
    "from functools import partial\n",
    "from sklearn.model_selection import KFold\n",
    "\n",
    "import torch\n",
    "\n",
    "import fastai\n",
    "from fastai.core import is_tuple\n",
    "from fastai.train import ShowGraph\n",
    "from fastai.vision import Path, open_image, ImageBBox, ObjectItemList, get_transforms, bb_pad_collate, conv_layer\n",
    "from fastai.vision import Learner, create_body, models, conv2d, ifnone, DatasetType, range_of, progress_bar, cnn_learner, Image\n",
    "from fastai.vision.data import pil2tensor\n",
    "\n",
    "from RetinaNet.object_detection_helper import process_output, nms, rescale_boxes, GeneralEnsemble\n",
    "from RetinaNet.object_detection_helper import create_anchors, get_annotations_from_path\n",
    "from RetinaNet.inference import custom_tta\n",
    "from RetinaNet.RetinaNetFocalLoss import FocalLoss\n",
    "from RetinaNet.RetinaNet import RetinaNet\n",
    "from RetinaNet.callbacks import BBLossMetrics, BBMetrics, PascalVOCMetric\n",
    "\n",
    "# Make required folders if they're not already present\n",
    "directories = ['./kfolds', './model_predictions', './model_source']\n",
    "for directory in directories:\n",
    "    if not os.path.exists(directory):\n",
    "        os.makedirs(directory)"
   ]
  },
  {
   "cell_type": "code",
   "execution_count": 11,
   "metadata": {},
   "outputs": [
    {
     "name": "stdout",
     "output_type": "stream",
     "text": [
      "Model: 03_FullModel__folds5\n"
     ]
    }
   ],
   "source": [
    "NFOLDS = 5\n",
    "\n",
    "batch_size = 64\n",
    "image_size = 256\n",
    "\n",
    "DATA = Path('data/')\n",
    "IMAGES = DATA/'train_labelled_images'\n",
    "ANNOTATIONS = DATA/'train_labelled_annotations'\n",
    "TEST = DATA/'sorghum_test_public'\n",
    "\n",
    "images, lbl_bbox = get_annotations_from_path(ANNOTATIONS, IMAGES)\n",
    "img2bbox = dict(zip(images, lbl_bbox))\n",
    "get_y_func = lambda o:img2bbox[IMAGES/o.name]\n",
    "\n",
    "script_name = os.path.basename('03_FullModel').split('.')[0]\n",
    "MODEL_NAME = \"{0}__folds{1}\".format(script_name, NFOLDS)\n",
    "\n",
    "print(\"Model: {}\".format(MODEL_NAME))\n",
    "\n",
    "kf = KFold(n_splits=NFOLDS)\n",
    "\n",
    "#Out of fold predictions, one row for each training image \n",
    "# with a variable length list for predicted bounding boxes\n",
    "oof_preds = np.empty((len(images),), dtype=object)\n",
    "for i,v in enumerate(oof_preds): \n",
    "    oof_preds[i] = []\n",
    "    \n",
    "tfms = get_transforms(do_flip=True, max_rotate=0, max_lighting=0.1, max_zoom=0, max_warp=0.)\n",
    "\n",
    "def get_data(bs, size, val_index):\n",
    "    src = ObjectItemList.from_folder(IMAGES)\n",
    "    src = src.split_by_idx(val_index)\n",
    "    src = src.label_from_func(get_y_func)\n",
    "    src = src.transform(get_transforms(), size=size, tfm_y=True)\n",
    "    return src.databunch(path=IMAGES, bs=16, collate_fn=bb_pad_collate)\n"
   ]
  },
  {
   "cell_type": "code",
   "execution_count": 14,
   "metadata": {
    "scrolled": false
   },
   "outputs": [
    {
     "data": {
      "text/html": [
       "<table border=\"1\" class=\"dataframe\">\n",
       "  <thead>\n",
       "    <tr style=\"text-align: left;\">\n",
       "      <th>epoch</th>\n",
       "      <th>train_loss</th>\n",
       "      <th>valid_loss</th>\n",
       "      <th>pascal_voc_metric</th>\n",
       "      <th>BBloss</th>\n",
       "      <th>focal_loss</th>\n",
       "      <th>AP-0</th>\n",
       "      <th>time</th>\n",
       "    </tr>\n",
       "  </thead>\n",
       "  <tbody>\n",
       "    <tr>\n",
       "      <td>0</td>\n",
       "      <td>2.763775</td>\n",
       "      <td>2.676623</td>\n",
       "      <td>0</td>\n",
       "      <td>0.594942</td>\n",
       "      <td>2.081681</td>\n",
       "      <td>0</td>\n",
       "      <td>00:07</td>\n",
       "    </tr>\n",
       "  </tbody>\n",
       "</table>"
      ],
      "text/plain": [
       "<IPython.core.display.HTML object>"
      ]
     },
     "metadata": {},
     "output_type": "display_data"
    },
    {
     "data": {
      "image/png": "[encoded data removed]",
      "text/plain": [
       "<Figure size 432x288 with 1 Axes>"
      ]
     },
     "metadata": {},
     "output_type": "display_data"
    },
    {
     "name": "stdout",
     "output_type": "stream",
     "text": [
      "12\n",
      "[([], []), ([], []), ([], []), ([], []), ([], []), ([], []), ([], []), ([], []), ([], []), ([], []), ([], []), ([], [])]\n"
     ]
    },
    {
     "ename": "ValueError",
     "evalue": "cannot copy sequence with size 12 to array axis with dimension 60",
     "output_type": "error",
     "traceback": [
      "\u001b[0;31m---------------------------------------------------------------------------\u001b[0m",
      "\u001b[0;31mValueError\u001b[0m                                Traceback (most recent call last)",
      "\u001b[0;32m<ipython-input-14-b70d4ed8bffc>\u001b[0m in \u001b[0;36m<module>\u001b[0;34m\u001b[0m\n\u001b[1;32m     26\u001b[0m     \u001b[0;31m#TODO: Ensemble\u001b[0m\u001b[0;34m\u001b[0m\u001b[0;34m\u001b[0m\u001b[0m\n\u001b[1;32m     27\u001b[0m \u001b[0;34m\u001b[0m\u001b[0m\n\u001b[0;32m---> 28\u001b[0;31m     \u001b[0moof_preds\u001b[0m\u001b[0;34m[\u001b[0m\u001b[0mval_index\u001b[0m\u001b[0;34m]\u001b[0m \u001b[0;34m=\u001b[0m \u001b[0mall_preds\u001b[0m\u001b[0;34m\u001b[0m\u001b[0m\n\u001b[0m\u001b[1;32m     29\u001b[0m \u001b[0;34m\u001b[0m\u001b[0m\n\u001b[1;32m     30\u001b[0m     \u001b[0;31m#Save learner\u001b[0m\u001b[0;34m\u001b[0m\u001b[0;34m\u001b[0m\u001b[0m\n",
      "\u001b[0;31mValueError\u001b[0m: cannot copy sequence with size 12 to array axis with dimension 60"
     ]
    }
   ],
   "source": [
    "for train_index, val_index in kf.split(images):\n",
    "\n",
    "    data = get_data(batch_size, image_size, val_index)\n",
    "\n",
    "    anchors = create_anchors(sizes=[(32,32),(16,16),(8,8),(4,4),(2,2)], ratios=[0.5, 1, 2], scales=[0.35, 0.5, 1])\n",
    "    n_classes = data.train_ds.c\n",
    "\n",
    "    crit = FocalLoss(anchors)\n",
    "    encoder = create_body(models.resnet101, True, -2)\n",
    "    model = RetinaNet(encoder, n_classes=data.train_ds.c, n_anchors=9, chs=32, final_bias=-4., n_conv=2)\n",
    "\n",
    "    voc = PascalVOCMetric(anchors, image_size, [i for i in data.train_ds.y.classes[1:]])\n",
    "    learn = Learner(data, model, loss_func=crit, callback_fns=[ShowGraph, BBMetrics], metrics=[voc])\n",
    "    learn.split([model.encoder[6], model.c5top5])\n",
    "    \n",
    "    learn.freeze_to(-2)\n",
    "    learn.fit_one_cycle(1, 1e-3)\n",
    "    \n",
    "    #learn.unfreeze()\n",
    "    #learn.fit_one_cycle(100, slice(1e-5, 1e-4))\n",
    "\n",
    "    all_preds = list(custom_tta(learn, anchors))\n",
    "    \n",
    "    print(len(all_preds))\n",
    "    print(all_preds)\n",
    "    #TODO: Ensemble\n",
    "\n",
    "    oof_preds[val_index] = all_preds\n",
    "\n",
    "    #Save learner\n",
    "    #TODO: Export with name\n",
    "    learn.export()\n",
    "    #Get test predictions\n",
    "    \n",
    "\n",
    "score = calculate_overall_lwlrap_sklearn(oof_preds, transformed_y).numpy()[0]\n",
    "\n",
    "print(\"Saving out-of-fold predictions...\")\n",
    "all_oof_preds = pd.DataFrame(np.hstack((filenames, oof_preds)), columns = test.columns)\n",
    "all_oof_preds.to_csv('./kfolds/{}__{}.csv'.format(MODEL_NAME, str(score)), index=False)\n",
    "\n",
    "print(\"Saving code...\")\n",
    "shutil.copyfile(os.path.basename(__file__), './model_source/{}__{}.py'.format(MODEL_NAME, str(score)))\n",
    "\n",
    "print(\"Saving submission file...\")\n",
    "# Adjust test predictions for number of folds and save\n",
    "test_preds /= NFOLDS\n",
    "test[learn.data.classes] = test_preds\n",
    "test.to_csv('./model_predictions/submission_{}__{}.csv'.format(MODEL_NAME, str(score)), index=False)"
   ]
  },
  {
   "cell_type": "code",
   "execution_count": 15,
   "metadata": {},
   "outputs": [
    {
     "data": {
      "text/plain": [
       "[([], []),\n",
       " ([], []),\n",
       " ([], []),\n",
       " ([], []),\n",
       " ([], []),\n",
       " ([], []),\n",
       " ([], []),\n",
       " ([], []),\n",
       " ([], []),\n",
       " ([], []),\n",
       " ([], []),\n",
       " ([], [])]"
      ]
     },
     "execution_count": 15,
     "metadata": {},
     "output_type": "execute_result"
    }
   ],
   "source": [
    "all_preds"
   ]
  },
  {
   "cell_type": "code",
   "execution_count": null,
   "metadata": {},
   "outputs": [],
   "source": []
  }
 ],
 "metadata": {
  "kernelspec": {
   "display_name": "Python (ml)",
   "language": "python",
   "name": "ml"
  },
  "language_info": {
   "codemirror_mode": {
    "name": "ipython",
    "version": 3
   },
   "file_extension": ".py",
   "mimetype": "text/x-python",
   "name": "python",
   "nbconvert_exporter": "python",
   "pygments_lexer": "ipython3",
   "version": "3.6.6"
  }
 },
 "nbformat": 4,
 "nbformat_minor": 2
}
